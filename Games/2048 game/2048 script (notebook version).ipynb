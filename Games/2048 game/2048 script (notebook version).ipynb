{
 "cells": [
  {
   "cell_type": "markdown",
   "id": "b54f3e46-1862-4892-9f97-a3920d296c2d",
   "metadata": {},
   "source": [
    "### *\\*This is the 2048.py file to run the 2048 game\\**"
   ]
  },
  {
   "cell_type": "code",
   "execution_count": 6,
   "id": "c0f9c0b7-2acb-422f-b0ad-ea7c5bd6a5db",
   "metadata": {},
   "outputs": [
    {
     "ename": "AttributeError",
     "evalue": "module 'logic' has no attribute 'start_game'",
     "output_type": "error",
     "traceback": [
      "\u001b[0;31m---------------------------------------------------------------------------\u001b[0m",
      "\u001b[0;31mAttributeError\u001b[0m                            Traceback (most recent call last)",
      "Cell \u001b[0;32mIn[6], line 10\u001b[0m\n\u001b[1;32m      6\u001b[0m \u001b[38;5;66;03m# Driver code\u001b[39;00m\n\u001b[1;32m      7\u001b[0m \u001b[38;5;28;01mif\u001b[39;00m \u001b[38;5;18m__name__\u001b[39m \u001b[38;5;241m==\u001b[39m \u001b[38;5;124m'\u001b[39m\u001b[38;5;124m__main__\u001b[39m\u001b[38;5;124m'\u001b[39m:\n\u001b[1;32m      8\u001b[0m \t\n\u001b[1;32m      9\u001b[0m \u001b[38;5;66;03m# calling start_game function to initialize the matrix\u001b[39;00m\n\u001b[0;32m---> 10\u001b[0m \tmat \u001b[38;5;241m=\u001b[39m \u001b[43mlogic\u001b[49m\u001b[38;5;241;43m.\u001b[39;49m\u001b[43mstart_game\u001b[49m()\n\u001b[1;32m     12\u001b[0m \u001b[38;5;28;01mwhile\u001b[39;00m(\u001b[38;5;28;01mTrue\u001b[39;00m):\n\u001b[1;32m     13\u001b[0m \n\u001b[1;32m     14\u001b[0m \t\u001b[38;5;66;03m# taking the user input for next step\u001b[39;00m\n\u001b[1;32m     15\u001b[0m \tx \u001b[38;5;241m=\u001b[39m \u001b[38;5;28minput\u001b[39m(\u001b[38;5;124m\"\u001b[39m\u001b[38;5;124mPress the command : \u001b[39m\u001b[38;5;124m\"\u001b[39m)\n",
      "\u001b[0;31mAttributeError\u001b[0m: module 'logic' has no attribute 'start_game'"
     ]
    }
   ],
   "source": [
    "# 2048.py\n",
    "\n",
    "# importing the logic.py file where we have written all the logic functions used.\n",
    "import logic\n",
    "\n",
    "# Driver code\n",
    "if __name__ == '__main__':\n",
    "\t\n",
    "# calling start_game function to initialize the matrix\n",
    "\tmat = logic.start_game()\n",
    "\n",
    "while(True):\n",
    "\n",
    "\t# taking the user input for next step\n",
    "\tx = input(\"Press the command : \")\n",
    "\n",
    "\t# we have to move up\n",
    "\tif(x == 'W' or x == 'w'):\n",
    "\n",
    "\t\t# call the move_up function\n",
    "\t\tmat, flag = logic.move_up(mat)\n",
    "\n",
    "\t\t# get the current state and print it\n",
    "\t\tstatus = logic.get_current_state(mat)\n",
    "\t\tprint(status)\n",
    "\n",
    "\t\t# if game not over then continue and add a new two\n",
    "\t\tif(status == 'GAME NOT OVER'):\n",
    "\t\t\tlogic.add_new_2(mat)\n",
    "\n",
    "\t\t# else break the loop \n",
    "\t\telse:\n",
    "\t\t\tbreak\n",
    "\n",
    "\t# the above process will be followed in case of each type of move below\n",
    "\n",
    "\t# to move down\n",
    "\telif(x == 'S' or x == 's'):\n",
    "\t\tmat, flag = logic.move_down(mat)\n",
    "\t\tstatus = logic.get_current_state(mat)\n",
    "\t\tprint(status)\n",
    "\t\tif(status == 'GAME NOT OVER'):\n",
    "\t\t\tlogic.add_new_2(mat)\n",
    "\t\telse:\n",
    "\t\t\tbreak\n",
    "\n",
    "\t# to move left\n",
    "\telif(x == 'A' or x == 'a'):\n",
    "\t\tmat, flag = logic.move_left(mat)\n",
    "\t\tstatus = logic.get_current_state(mat)\n",
    "\t\tprint(status)\n",
    "\t\tif(status == 'GAME NOT OVER'):\n",
    "\t\t\tlogic.add_new_2(mat)\n",
    "\t\telse:\n",
    "\t\t\tbreak\n",
    "\n",
    "\t# to move right\n",
    "\telif(x == 'D' or x == 'd'):\n",
    "\t\tmat, flag = logic.move_right(mat)\n",
    "\t\tstatus = logic.get_current_state(mat)\n",
    "\t\tprint(status)\n",
    "\t\tif(status == 'GAME NOT OVER'):\n",
    "\t\t\tlogic.add_new_2(mat)\n",
    "\t\telse:\n",
    "\t\t\tbreak\n",
    "\telse:\n",
    "\t\tprint(\"Invalid Key Pressed\")\n",
    "\n",
    "\t# print the matrix after each move.\n",
    "\tprint(mat)\n"
   ]
  },
  {
   "cell_type": "code",
   "execution_count": null,
   "id": "bd915573-b667-4663-b15d-6a02fc26e09e",
   "metadata": {},
   "outputs": [],
   "source": []
  }
 ],
 "metadata": {
  "kernelspec": {
   "display_name": "Python (beginner_python_projects)",
   "language": "python",
   "name": "beginner_python_project"
  },
  "language_info": {
   "codemirror_mode": {
    "name": "ipython",
    "version": 3
   },
   "file_extension": ".py",
   "mimetype": "text/x-python",
   "name": "python",
   "nbconvert_exporter": "python",
   "pygments_lexer": "ipython3",
   "version": "3.10.12"
  }
 },
 "nbformat": 4,
 "nbformat_minor": 5
}
