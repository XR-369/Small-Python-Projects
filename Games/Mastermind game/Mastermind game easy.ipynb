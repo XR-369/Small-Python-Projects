{
 "cells": [
  {
   "cell_type": "markdown",
   "id": "12449ea3-a753-4589-bde7-372b3d59eebe",
   "metadata": {},
   "source": [
    "# This will be the easy version of the mastermind game"
   ]
  },
  {
   "cell_type": "code",
   "execution_count": 1,
   "id": "53d311dd-7f33-4928-9ddf-1df5c540482f",
   "metadata": {},
   "outputs": [
    {
     "name": "stdin",
     "output_type": "stream",
     "text": [
      "Guess the 4 digit number: 1234\n"
     ]
    },
    {
     "name": "stdout",
     "output_type": "stream",
     "text": [
      "None of the numbers in your input match.\n"
     ]
    },
    {
     "name": "stdin",
     "output_type": "stream",
     "text": [
      "Enter your next choice of numbers:  4321\n"
     ]
    },
    {
     "name": "stdout",
     "output_type": "stream",
     "text": [
      "None of the numbers in your input match.\n"
     ]
    },
    {
     "name": "stdin",
     "output_type": "stream",
     "text": [
      "Enter your next choice of numbers:  5678\n"
     ]
    },
    {
     "name": "stdout",
     "output_type": "stream",
     "text": [
      "Not quite the number. But you did get  1  digit(s) correct!\n",
      "Also these numbers in your input were correct.\n",
      "5 \n",
      "\n",
      "\n",
      "\n"
     ]
    },
    {
     "name": "stdin",
     "output_type": "stream",
     "text": [
      "Enter your next choice of numbers:  5876\n"
     ]
    },
    {
     "name": "stdout",
     "output_type": "stream",
     "text": [
      "Not quite the number. But you did get  2  digit(s) correct!\n",
      "Also these numbers in your input were correct.\n",
      "5 8 \n",
      "\n",
      "\n",
      "\n"
     ]
    },
    {
     "name": "stdin",
     "output_type": "stream",
     "text": [
      "Enter your next choice of numbers:  5812\n"
     ]
    },
    {
     "name": "stdout",
     "output_type": "stream",
     "text": [
      "Not quite the number. But you did get  2  digit(s) correct!\n",
      "Also these numbers in your input were correct.\n",
      "5 8 \n",
      "\n",
      "\n",
      "\n"
     ]
    },
    {
     "name": "stdin",
     "output_type": "stream",
     "text": [
      "Enter your next choice of numbers:  5843\n"
     ]
    },
    {
     "name": "stdout",
     "output_type": "stream",
     "text": [
      "Not quite the number. But you did get  2  digit(s) correct!\n",
      "Also these numbers in your input were correct.\n",
      "5 8 \n",
      "\n",
      "\n",
      "\n"
     ]
    },
    {
     "name": "stdin",
     "output_type": "stream",
     "text": [
      "Enter your next choice of numbers:  5856\n"
     ]
    },
    {
     "name": "stdout",
     "output_type": "stream",
     "text": [
      "Not quite the number. But you did get  3  digit(s) correct!\n",
      "Also these numbers in your input were correct.\n",
      "5 8 5 \n",
      "\n",
      "\n",
      "\n"
     ]
    },
    {
     "name": "stdin",
     "output_type": "stream",
     "text": [
      "Enter your next choice of numbers:  5855\n"
     ]
    },
    {
     "name": "stdout",
     "output_type": "stream",
     "text": [
      "Not quite the number. But you did get  3  digit(s) correct!\n",
      "Also these numbers in your input were correct.\n",
      "5 8 5 \n",
      "\n",
      "\n",
      "\n"
     ]
    },
    {
     "name": "stdin",
     "output_type": "stream",
     "text": [
      "Enter your next choice of numbers:  5857\n"
     ]
    },
    {
     "name": "stdout",
     "output_type": "stream",
     "text": [
      "Not quite the number. But you did get  3  digit(s) correct!\n",
      "Also these numbers in your input were correct.\n",
      "5 8 5 \n",
      "\n",
      "\n",
      "\n"
     ]
    },
    {
     "name": "stdin",
     "output_type": "stream",
     "text": [
      "Enter your next choice of numbers:  5859\n"
     ]
    },
    {
     "name": "stdout",
     "output_type": "stream",
     "text": [
      "Not quite the number. But you did get  3  digit(s) correct!\n",
      "Also these numbers in your input were correct.\n",
      "5 8 5 \n",
      "\n",
      "\n",
      "\n"
     ]
    },
    {
     "name": "stdin",
     "output_type": "stream",
     "text": [
      "Enter your next choice of numbers:  5850\n"
     ]
    },
    {
     "name": "stdout",
     "output_type": "stream",
     "text": [
      "You've become a Mastermind!\n",
      "It took you only 11 tries.\n"
     ]
    }
   ],
   "source": [
    "import random\n",
    "\n",
    "# the .randrange() function generates\n",
    "# a random number within the specified range.\n",
    "num = random.randrange(1000, 10000)\n",
    "\n",
    "n = int(input(\"Guess the 4 digit number:\"))\n",
    "\n",
    "# condition to test equality of the\n",
    "# guess made. Program terminates if true.\n",
    "if(n == num):\n",
    "\tprint(\"Great! You guessed the number in just 1 try! You're a Mastermind!\")\n",
    "else:\n",
    "\t# ctr variable initialized. It will keep count of\n",
    "\t# the number of tries the Player takes to guess the number.\n",
    "\tctr = 0\n",
    "\n",
    "\t# while loop repeats as long as the Player\n",
    "\t# fails to guess the number correctly.\n",
    "\twhile(n != num):\n",
    "\t\t# variable increments every time the loop\n",
    "\t\t# is executed, giving an idea of how many\n",
    "\t\t# guesses were made.\n",
    "\t\tctr += 1\n",
    "\n",
    "\t\tcount = 0\n",
    "\n",
    "\t\t# explicit type conversion of an integer to\n",
    "\t\t# a string in order to ease extraction of digits\n",
    "\t\tn = str(n)\n",
    "\n",
    "\t\t# explicit type conversion of a string to an integer\n",
    "\t\tnum = str(num)\n",
    "\n",
    "\t\t# correct[] list stores digits which are correct\n",
    "\t\tcorrect = []\n",
    "\n",
    "\t\t# for loop runs 4 times since the number has 4 digits.\n",
    "\t\tfor i in range(0, 4):\n",
    "\t\t\t# checking for equality of digits\n",
    "\t\t\tif(n[i] == num[i]):\n",
    "\t\t\t\t# number of digits guessed correctly increments\n",
    "\t\t\t\tcount += 1\n",
    "\t\t\t\t# hence, the digit is stored in correct[].\n",
    "\t\t\t\tcorrect.append(n[i])\n",
    "\t\t\telse:\n",
    "\t\t\t\tcontinue\n",
    "\n",
    "\t\t# when not all the digits are guessed correctly.\n",
    "\t\tif (count < 4) and (count != 0):\n",
    "\t\t\tprint(\"Not quite the number. But you did get \",\n",
    "\t\t\t\tcount, \" digit(s) correct!\")\n",
    "\t\t\tprint(\"Also these numbers in your input were correct.\")\n",
    "\n",
    "\t\t\tfor k in correct:\n",
    "\t\t\t\tprint(k, end=' ')\n",
    "\n",
    "\t\t\tprint('\\n')\n",
    "\t\t\tprint('\\n')\n",
    "\t\t\tn = int(input(\"Enter your next choice of numbers: \"))\n",
    "\n",
    "\t\t# when none of the digits are guessed correctly.\n",
    "\t\telif(count == 0):\n",
    "\t\t\tprint(\"None of the numbers in your input match.\")\n",
    "\t\t\tn = int(input(\"Enter your next choice of numbers: \"))\n",
    "\n",
    "\tif n == num:\n",
    "\t\tprint(\"You've become a Mastermind!\")\n",
    "\t\tprint(\"It took you only\", ctr, \"tries.\")\n"
   ]
  },
  {
   "cell_type": "code",
   "execution_count": null,
   "id": "25bf0850-17c0-47e2-b550-3d4f06366deb",
   "metadata": {},
   "outputs": [],
   "source": []
  }
 ],
 "metadata": {
  "kernelspec": {
   "display_name": "Python (beginner_python_projects)",
   "language": "python",
   "name": "beginner_python_project"
  },
  "language_info": {
   "codemirror_mode": {
    "name": "ipython",
    "version": 3
   },
   "file_extension": ".py",
   "mimetype": "text/x-python",
   "name": "python",
   "nbconvert_exporter": "python",
   "pygments_lexer": "ipython3",
   "version": "3.10.12"
  }
 },
 "nbformat": 4,
 "nbformat_minor": 5
}
