{
 "cells": [
  {
   "cell_type": "markdown",
   "id": "7f521984-79f2-4ed8-a1f4-fe705522637c",
   "metadata": {},
   "source": [
    "# This will be the beginner project kernel! Good luck to me!"
   ]
  },
  {
   "cell_type": "markdown",
   "id": "0dc07adf-36f1-4065-b010-a24e3cfb0d07",
   "metadata": {},
   "source": [
    "## 1. Mastermind game"
   ]
  },
  {
   "cell_type": "code",
   "execution_count": 1,
   "id": "de25c163-05b0-4200-ab45-991908940aca",
   "metadata": {},
   "outputs": [
    {
     "data": {
      "text/plain": [
       "'/home/stacee/virtualenv_name/Projects/Beginner_Projects'"
      ]
     },
     "execution_count": 1,
     "metadata": {},
     "output_type": "execute_result"
    }
   ],
   "source": [
    "import os\n",
    "os.path.abspath(\"\")"
   ]
  },
  {
   "cell_type": "code",
   "execution_count": null,
   "id": "8b59f5c4-046c-4e46-bc30-09452e4dafc8",
   "metadata": {},
   "outputs": [],
   "source": []
  }
 ],
 "metadata": {
  "kernelspec": {
   "display_name": "Python (slovenian_football_scraper)",
   "language": "python",
   "name": "beginner_python_project"
  },
  "language_info": {
   "codemirror_mode": {
    "name": "ipython",
    "version": 3
   },
   "file_extension": ".py",
   "mimetype": "text/x-python",
   "name": "python",
   "nbconvert_exporter": "python",
   "pygments_lexer": "ipython3",
   "version": "3.10.12"
  }
 },
 "nbformat": 4,
 "nbformat_minor": 5
}
