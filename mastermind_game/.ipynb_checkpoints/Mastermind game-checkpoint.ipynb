{
 "cells": [
  {
   "cell_type": "code",
   "execution_count": 1,
   "id": "fee126dd-6409-46dd-a279-627b7696a1a7",
   "metadata": {},
   "outputs": [],
   "source": [
    "import random"
   ]
  },
  {
   "cell_type": "code",
   "execution_count": 2,
   "id": "9d8477b5-1d2a-422b-89aa-84a07f346ace",
   "metadata": {},
   "outputs": [
    {
     "name": "stdin",
     "output_type": "stream",
     "text": [
      "Guess the 4 digit number: 1234\n"
     ]
    },
    {
     "name": "stdout",
     "output_type": "stream",
     "text": [
      "None of the numbers in your input match.\n"
     ]
    },
    {
     "name": "stdin",
     "output_type": "stream",
     "text": [
      "Enter your next choice of numbers:  5678\n"
     ]
    },
    {
     "name": "stdout",
     "output_type": "stream",
     "text": [
      "None of the numbers in your input match.\n"
     ]
    },
    {
     "name": "stdin",
     "output_type": "stream",
     "text": [
      "Enter your next choice of numbers:  4321\n"
     ]
    },
    {
     "name": "stdout",
     "output_type": "stream",
     "text": [
      "Not quite the number. But you did get  3  digit(s) correct!\n",
      "\n",
      "\n"
     ]
    },
    {
     "name": "stdin",
     "output_type": "stream",
     "text": [
      "Enter your next choice of numbers:  5321\n"
     ]
    },
    {
     "name": "stdout",
     "output_type": "stream",
     "text": [
      "Not quite the number. But you did get  2  digit(s) correct!\n",
      "\n",
      "\n"
     ]
    },
    {
     "name": "stdin",
     "output_type": "stream",
     "text": [
      "Enter your next choice of numbers:  4521\n"
     ]
    },
    {
     "name": "stdout",
     "output_type": "stream",
     "text": [
      "Not quite the number. But you did get  3  digit(s) correct!\n",
      "\n",
      "\n"
     ]
    },
    {
     "name": "stdin",
     "output_type": "stream",
     "text": [
      "Enter your next choice of numbers:  4621\n"
     ]
    },
    {
     "name": "stdout",
     "output_type": "stream",
     "text": [
      "Not quite the number. But you did get  3  digit(s) correct!\n",
      "\n",
      "\n"
     ]
    },
    {
     "name": "stdin",
     "output_type": "stream",
     "text": [
      "Enter your next choice of numbers:  4021\n"
     ]
    },
    {
     "name": "stdout",
     "output_type": "stream",
     "text": [
      "Not quite the number. But you did get  3  digit(s) correct!\n",
      "\n",
      "\n"
     ]
    },
    {
     "name": "stdin",
     "output_type": "stream",
     "text": [
      "Enter your next choice of numbers:  4121\n"
     ]
    },
    {
     "name": "stdout",
     "output_type": "stream",
     "text": [
      "You've become a Mastermind!\n",
      "It took you only 9 tries.\n"
     ]
    }
   ],
   "source": [
    "import random\n",
    "\n",
    "# the .randrange() function generates a random number within the specified range.\n",
    "num = random.randrange(1000, 10000)\n",
    "\n",
    "n = int(input(\"Guess the 4 digit number:\"))\n",
    "\n",
    "# condition to test equality of the guess made. Program terminates if true.\n",
    "if (n == num):\n",
    "    print(\"Great! You guessed the number in just 1 try! You're a Mastermind!\")\n",
    "else:\n",
    "    # ctr variable initialized. It will keep count of the number of tries the Player takes to guess the number.\n",
    "    ctr = 0\n",
    "\n",
    "    # while loop repeats as long as the Player fails to guess the number correctly.\n",
    "    while (n != num):\n",
    "        # variable increments every time the loop is executed, giving an idea of how many guesses were made.\n",
    "        ctr += 1\n",
    "\n",
    "        count = 0\n",
    "\n",
    "        # explicit type conversion of an integer to a string in order to ease extraction of digits\n",
    "        n = str(n)\n",
    "        num = str(num)\n",
    "\n",
    "        # correct[] list stores digits which are correct\n",
    "        correct = ['X']*4\n",
    "\n",
    "        # for loop runs 4 times since the number has 4 digits.\n",
    "        for i in range(0, 4):\n",
    "\n",
    "            # checking for equality of digits\n",
    "            if (n[i] == num[i]):\n",
    "                # number of digits guessed correctly increments\n",
    "                count += 1\n",
    "                # hence, the digit is stored in correct[].\n",
    "                correct[i] = n[i]\n",
    "            else:\n",
    "                continue\n",
    "\n",
    "        # when not all the digits are guessed correctly.\n",
    "        if (count < 4) and (count != 0):\n",
    "            print(\"Not quite the number. But you did get \", count, \" digit(s) correct!\")\n",
    "            # The following lines are now commented out to avoid printing the specific correct numbers:\n",
    "            # print(\"Also these numbers in your input were correct.\")\n",
    "            # for k in correct:\n",
    "            #     print(k, end=' ')\n",
    "            print('\\n')\n",
    "            n = int(input(\"Enter your next choice of numbers: \"))\n",
    "        \n",
    "        # when none of the digits are guessed correctly.\n",
    "        elif count == 0:\n",
    "            print(\"None of the numbers in your input match.\")\n",
    "            n = int(input(\"Enter your next choice of numbers: \"))\n",
    "\n",
    "        # condition for equality.\n",
    "        if n == num:\n",
    "            ctr += 1\n",
    "            print(\"You've become a Mastermind!\")\n",
    "            print(\"It took you only\", ctr, \"tries.\")\n"
   ]
  },
  {
   "cell_type": "code",
   "execution_count": null,
   "id": "3a227c2d-97b2-471d-bb96-c3546ab3704d",
   "metadata": {},
   "outputs": [],
   "source": []
  }
 ],
 "metadata": {
  "kernelspec": {
   "display_name": "Python (beginner_python_projects)",
   "language": "python",
   "name": "beginner_python_project"
  },
  "language_info": {
   "codemirror_mode": {
    "name": "ipython",
    "version": 3
   },
   "file_extension": ".py",
   "mimetype": "text/x-python",
   "name": "python",
   "nbconvert_exporter": "python",
   "pygments_lexer": "ipython3",
   "version": "3.10.12"
  }
 },
 "nbformat": 4,
 "nbformat_minor": 5
}
